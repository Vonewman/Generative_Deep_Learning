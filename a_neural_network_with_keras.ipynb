{
  "nbformat": 4,
  "nbformat_minor": 0,
  "metadata": {
    "colab": {
      "name": "a_neural_network_with_keras.ipynb",
      "provenance": [],
      "private_outputs": true,
      "collapsed_sections": [],
      "authorship_tag": "ABX9TyOng3BHAcegEn1pkXgGCGlN",
      "include_colab_link": true
    },
    "kernelspec": {
      "name": "python3",
      "display_name": "Python 3"
    }
  },
  "cells": [
    {
      "cell_type": "markdown",
      "metadata": {
        "id": "view-in-github",
        "colab_type": "text"
      },
      "source": [
        "<a href=\"https://colab.research.google.com/github/Vonewman/Generative_Deep_Learning/blob/master/a_neural_network_with_keras.ipynb\" target=\"_parent\"><img src=\"https://colab.research.google.com/assets/colab-badge.svg\" alt=\"Open In Colab\"/></a>"
      ]
    },
    {
      "cell_type": "code",
      "metadata": {
        "id": "PFjkhk4Jl2a9",
        "colab_type": "code",
        "colab": {}
      },
      "source": [
        "import numpy as np\n",
        "from keras.utils import to_categorical\n",
        "from keras.datasets import cifar10"
      ],
      "execution_count": 0,
      "outputs": []
    },
    {
      "cell_type": "markdown",
      "metadata": {
        "id": "Vh_P6RaxgI5s",
        "colab_type": "text"
      },
      "source": [
        "### Loading the data\n",
        "\n",
        "We will use the CIFAR-10 dataset, a collection of 60,000 32 x 32-pixel color images that comes bundled with keras out of the box."
      ]
    },
    {
      "cell_type": "code",
      "metadata": {
        "id": "8cDYZUXLf8TC",
        "colab_type": "code",
        "colab": {}
      },
      "source": [
        "(x_train, y_train), (x_test, y_test) = cifar10.load_data()"
      ],
      "execution_count": 0,
      "outputs": []
    },
    {
      "cell_type": "code",
      "metadata": {
        "id": "iBlOgBuEiC4s",
        "colab_type": "code",
        "colab": {}
      },
      "source": [
        "NUM_CLASSES = 10"
      ],
      "execution_count": 0,
      "outputs": []
    },
    {
      "cell_type": "code",
      "metadata": {
        "id": "8kQBlG53ifKn",
        "colab_type": "code",
        "colab": {}
      },
      "source": [
        "x_train = x_train.astype('float32') / 255.0\n",
        "x_test  = x_test.astype('float32') / 255.0"
      ],
      "execution_count": 0,
      "outputs": []
    },
    {
      "cell_type": "code",
      "metadata": {
        "id": "boJD9d8jiswg",
        "colab_type": "code",
        "colab": {}
      },
      "source": [
        "y_train = to_categorical(y_train, NUM_CLASSES)\n",
        "y_test  = to_categorical(y_test, NUM_CLASSES)"
      ],
      "execution_count": 0,
      "outputs": []
    },
    {
      "cell_type": "code",
      "metadata": {
        "id": "EUFbTYzMjn2E",
        "colab_type": "code",
        "colab": {}
      },
      "source": [
        "y_train.shape"
      ],
      "execution_count": 0,
      "outputs": []
    },
    {
      "cell_type": "code",
      "metadata": {
        "id": "Q6wDtgFblUqm",
        "colab_type": "code",
        "colab": {}
      },
      "source": [
        "y_test.shape"
      ],
      "execution_count": 0,
      "outputs": []
    },
    {
      "cell_type": "markdown",
      "metadata": {
        "id": "Otk-NMMWsDen",
        "colab_type": "text"
      },
      "source": [
        "#### The architecture using the sequential model "
      ]
    },
    {
      "cell_type": "code",
      "metadata": {
        "id": "PZJb4gJxlYnT",
        "colab_type": "code",
        "colab": {}
      },
      "source": [
        "from keras.models import Sequential\n",
        "from keras.layers import Flatten, Dense\n",
        "\n",
        "model = Sequential()\n",
        "model.add(Dense(200, activation='relu', input_shape=(32, 32, 3)))\n",
        "model.add(Flatten())\n",
        "model.add(Dense(150, activation='relu'))\n",
        "model.add(Dense(10, activation='softmax'))"
      ],
      "execution_count": 0,
      "outputs": []
    },
    {
      "cell_type": "markdown",
      "metadata": {
        "id": "pIC3htJ0DLAJ",
        "colab_type": "text"
      },
      "source": [
        "#### The architecture using the functional API"
      ]
    },
    {
      "cell_type": "code",
      "metadata": {
        "id": "kM201jDvlhq6",
        "colab_type": "code",
        "colab": {}
      },
      "source": [
        "from keras.layers import Input, Flatten, Dense\n",
        "from keras.models import Model\n",
        "\n",
        "input_layer = Input(shape=(32, 32, 3))\n",
        "\n",
        "x = Flatten()(input_layer)\n",
        "\n",
        "x = Dense(units=200, activation = 'relu')(x)\n",
        "x = Dense(units=150, activation = 'relu')(x)\n",
        "\n",
        "output_layer = Dense(units=10, activation='softmax')(x)\n",
        "\n",
        "model = Model(input_layer, output_layer)"
      ],
      "execution_count": 0,
      "outputs": []
    },
    {
      "cell_type": "code",
      "metadata": {
        "id": "MmYKXq93DZq-",
        "colab_type": "code",
        "colab": {}
      },
      "source": [
        "model.summary()"
      ],
      "execution_count": 0,
      "outputs": []
    },
    {
      "cell_type": "markdown",
      "metadata": {
        "id": "AKkGjMSt3Owv",
        "colab_type": "text"
      },
      "source": [
        "#### Compiling the model"
      ]
    },
    {
      "cell_type": "code",
      "metadata": {
        "id": "yf1PNQM5olSB",
        "colab_type": "code",
        "colab": {}
      },
      "source": [
        "from keras.optimizers import Adam\n",
        "\n",
        "opt = Adam(lr=0.0005)\n",
        "model.compile(loss='categorical_crossentropy', optimizer=opt, metrics=['accuracy'])"
      ],
      "execution_count": 0,
      "outputs": []
    },
    {
      "cell_type": "markdown",
      "metadata": {
        "id": "mcYbbd_663yK",
        "colab_type": "text"
      },
      "source": [
        "#### Training the Model"
      ]
    },
    {
      "cell_type": "code",
      "metadata": {
        "id": "4jw6tLVq3pGH",
        "colab_type": "code",
        "colab": {}
      },
      "source": [
        "model.fit(x_train,\n",
        "          y_train,\n",
        "          batch_size = 32,\n",
        "          epochs = 10,\n",
        "          shuffle = True\n",
        "          )"
      ],
      "execution_count": 0,
      "outputs": []
    },
    {
      "cell_type": "markdown",
      "metadata": {
        "id": "GPF8zyikzOqj",
        "colab_type": "text"
      },
      "source": [
        "#### Evaluating the model"
      ]
    },
    {
      "cell_type": "code",
      "metadata": {
        "id": "sjjOyPy97M1y",
        "colab_type": "code",
        "colab": {}
      },
      "source": [
        "model.evaluate(x_test, y_test)"
      ],
      "execution_count": 0,
      "outputs": []
    },
    {
      "cell_type": "code",
      "metadata": {
        "id": "0twbkf27zWWr",
        "colab_type": "code",
        "colab": {}
      },
      "source": [
        "CLASSES = np.array(['airplane', 'automobile', 'bird', 'cat', 'deer', 'dog'\n",
        "                   , 'frog', 'horse', 'ship', 'truck'])\n",
        "\n",
        "preds = model.predict(x_test) \n",
        "preds_single = CLASSES[np.argmax(preds, axis = -1)]\n",
        "actual_single = CLASSES[np.argmax(y_test, axis = -1)]"
      ],
      "execution_count": 0,
      "outputs": []
    },
    {
      "cell_type": "code",
      "metadata": {
        "id": "3m1ueSW6-j1l",
        "colab_type": "code",
        "colab": {}
      },
      "source": [
        "import matplotlib.pyplot as plt\n",
        "\n",
        "\n",
        "n_to_show = 10\n",
        "indices = np.random.choice(range(len(x_test)), n_to_show)\n",
        "\n",
        "fig = plt.figure(figsize=(15, 3))\n",
        "fig.subplots_adjust(hspace=0.4, wspace=0.4)\n",
        "\n",
        "for i, idx in enumerate(indices):\n",
        "    img = x_test[idx]\n",
        "    ax = fig.add_subplot(1, n_to_show, i+1)\n",
        "    ax.axis('off')\n",
        "    ax.text(0.5, -0.35, 'pred = ' + str(preds_single[idx]), fontsize=10\n",
        "       , ha='center', transform=ax.transAxes)\n",
        "    ax.text(0.5, -0.7, 'act = ' + str(actual_single[idx]), fontsize=10\n",
        "        , ha='center', transform=ax.transAxes)\n",
        "    ax.imshow(img)"
      ],
      "execution_count": 0,
      "outputs": []
    },
    {
      "cell_type": "code",
      "metadata": {
        "id": "4nEOgOJXPGJy",
        "colab_type": "code",
        "colab": {}
      },
      "source": [
        ""
      ],
      "execution_count": 0,
      "outputs": []
    }
  ]
}